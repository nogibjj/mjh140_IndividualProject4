{
 "cells": [
  {
   "cell_type": "code",
   "execution_count": 1,
   "metadata": {},
   "outputs": [
    {
     "name": "stdout",
     "output_type": "stream",
     "text": [
      "WARNING:tensorflow:From c:\\Users\\matth\\miniconda3\\Lib\\site-packages\\keras\\src\\losses.py:2976: The name tf.losses.sparse_softmax_cross_entropy is deprecated. Please use tf.compat.v1.losses.sparse_softmax_cross_entropy instead.\n",
      "\n"
     ]
    }
   ],
   "source": [
    "# import required libraries\n",
    "from transformers import pipeline\n",
    "import textwrap\n",
    "import numpy as np\n",
    "import pandas as pd\n",
    "from pprint import pprint"
   ]
  },
  {
   "cell_type": "code",
   "execution_count": 2,
   "metadata": {},
   "outputs": [],
   "source": [
    "df = pd.read_csv('bbc_text_cls.csv')"
   ]
  },
  {
   "cell_type": "code",
   "execution_count": 3,
   "metadata": {},
   "outputs": [
    {
     "data": {
      "text/html": [
       "<div>\n",
       "<style scoped>\n",
       "    .dataframe tbody tr th:only-of-type {\n",
       "        vertical-align: middle;\n",
       "    }\n",
       "\n",
       "    .dataframe tbody tr th {\n",
       "        vertical-align: top;\n",
       "    }\n",
       "\n",
       "    .dataframe thead th {\n",
       "        text-align: right;\n",
       "    }\n",
       "</style>\n",
       "<table border=\"1\" class=\"dataframe\">\n",
       "  <thead>\n",
       "    <tr style=\"text-align: right;\">\n",
       "      <th></th>\n",
       "      <th>text</th>\n",
       "      <th>labels</th>\n",
       "    </tr>\n",
       "  </thead>\n",
       "  <tbody>\n",
       "    <tr>\n",
       "      <th>0</th>\n",
       "      <td>Ad sales boost Time Warner profit\\n\\nQuarterly...</td>\n",
       "      <td>business</td>\n",
       "    </tr>\n",
       "    <tr>\n",
       "      <th>1</th>\n",
       "      <td>Dollar gains on Greenspan speech\\n\\nThe dollar...</td>\n",
       "      <td>business</td>\n",
       "    </tr>\n",
       "    <tr>\n",
       "      <th>2</th>\n",
       "      <td>Yukos unit buyer faces loan claim\\n\\nThe owner...</td>\n",
       "      <td>business</td>\n",
       "    </tr>\n",
       "    <tr>\n",
       "      <th>3</th>\n",
       "      <td>High fuel prices hit BA's profits\\n\\nBritish A...</td>\n",
       "      <td>business</td>\n",
       "    </tr>\n",
       "    <tr>\n",
       "      <th>4</th>\n",
       "      <td>Pernod takeover talk lifts Domecq\\n\\nShares in...</td>\n",
       "      <td>business</td>\n",
       "    </tr>\n",
       "  </tbody>\n",
       "</table>\n",
       "</div>"
      ],
      "text/plain": [
       "                                                text    labels\n",
       "0  Ad sales boost Time Warner profit\\n\\nQuarterly...  business\n",
       "1  Dollar gains on Greenspan speech\\n\\nThe dollar...  business\n",
       "2  Yukos unit buyer faces loan claim\\n\\nThe owner...  business\n",
       "3  High fuel prices hit BA's profits\\n\\nBritish A...  business\n",
       "4  Pernod takeover talk lifts Domecq\\n\\nShares in...  business"
      ]
     },
     "execution_count": 3,
     "metadata": {},
     "output_type": "execute_result"
    }
   ],
   "source": [
    "df.head()"
   ]
  },
  {
   "cell_type": "code",
   "execution_count": 4,
   "metadata": {},
   "outputs": [],
   "source": [
    "doc = df[df.labels == 'business']['text'].sample(random_state=42)"
   ]
  },
  {
   "cell_type": "code",
   "execution_count": 5,
   "metadata": {},
   "outputs": [
    {
     "name": "stdout",
     "output_type": "stream",
     "text": [
      "Christmas sales worst since 1981\n",
      "\n",
      "UK retail sales fell in December, failing to meet expectations and making it by some counts the worst Christmas since 1981.\n",
      "\n",
      "Retail sales dropped by 1% on the month in December, after a 0.6% rise in November, the Office for National Statistics (ONS) said. The ONS revised the annual 2004 rate of growth down from the 5.9% estimated in November to 3.2%. A number of retailers have already reported poor figures for December. Clothing retailers and non-specialist stores were the worst hit with only internet retailers showing any significant growth, according to the ONS.\n",
      "\n",
      "The last time retailers endured a tougher Christmas was 23 years previously, when sales plunged 1.7%.\n",
      "\n",
      "The ONS echoed an earlier caution from Bank of England governor Mervyn King not to read too much into the poor December figures. Some analysts put a positive gloss on the figures, pointing out that the non-seasonally-adjusted figures showed a performance comparable with 2003. The November-December jump last year was roughly comparable with recent averages, although some way below the serious booms seen in the 1990s. And figures for retail volume outperformed measures of actual spending, an indication that consumers are looking for bargains, and retailers are cutting their prices.\n",
      "\n",
      "However, reports from some High Street retailers highlight the weakness of the sector. Morrisons, Woolworths, House of Fraser, Marks & Spencer and Big Food all said that the festive period was disappointing.\n",
      "\n",
      "And a British Retail Consortium survey found that Christmas 2004 was the worst for 10 years. Yet, other retailers - including HMV, Monsoon, Jessops, Body Shop and Tesco - reported that festive sales were well up on last year. Investec chief economist Philip Shaw said he did not expect the poor retail figures to have any immediate effect on interest rates. \"The retail sales figures are very weak, but as Bank of England governor Mervyn King indicated last night, you don't really get an accurate impression of Christmas trading until about Easter,\" said Mr Shaw. \"Our view is the Bank of England will keep its powder dry and wait to see the big picture.\"\n",
      "<class 'str'>\n"
     ]
    }
   ],
   "source": [
    "print(doc.iloc[0])\n",
    "print(type(doc.iloc[0]))"
   ]
  },
  {
   "cell_type": "markdown",
   "metadata": {},
   "source": [
    "\"As far as I know this is the first time this has ever happened. It is a breach of secularism,\" said David Lisnard, a prominent right-wing opposition figure who is also mayor of Cannes.\n",
    "\"The Elysée is not a place of religion. You cannot compromise with secularism,\" said the Socialist president of the Occitania region, Carole Delga.\n",
    "\"Will Macron now do the same for other religions? Some yes, some no? It's a dangerous spiral,\" said Alexis Corbière of the far-left France Unbowed.\n",
    "Even some French Jews were perplexed. \"This is something that shouldn't be allowed to happen again,\" said Yonathan Arfi who heads the Representative Council of French Jewish Institutions (Crif).\n",
    "\"French Jews have always considered secularism as a law of protection and of freedom. Anything that weakens secularism weakens Jews,\" he said.\n",
    "\n",
    "The idea of \"secularism\" was put into a French law of 1905, after years of struggle between the state and the Roman Catholic Church. It enshrined freedom of belief, but ended state involvement in the Church and removed all signs of religion from public buildings.\n",
    "The law has since come to be regarded as a cornerstone of modern France, ensuring strict neutrality between Christianity, Islam and Judaism, and guaranteeing that citizens are seen as individuals-in-a-state and not as members-in-a-community.\n",
    "\n",
    "For Emmanuel Macron to have breached a century-old Republican doctrine will be seen by critics as confirmation of his overweening self-belief and \"Jupiterian\" entitlement.\n",
    "Speaking on Friday as he viewed renovation work at Notre-Dame cathedral, the president said he had no regrets, and that his invitation to the chief rabbi had been made \"in the spirit of the Republic and of concord\".\n",
    "\n",
    "The gesture comes at the end of a long political sequence over Gaza in which President Macron has been under attack for improvising policy on the hoof.\n",
    "Critics say he has failed to present a consistent line on the war, instead zigzagging from overclose proximity to the Israeli side at one moment, to intense courting of Arab opinion at the next: always with the aim of appeasing the large Jewish and Muslim populations in France.\n",
    "Shortly after 7 October, Mr Macron visited Israel and proposed an international coalition against Hamas, much like the one that defeated so-called Islamic State (IS).\n",
    "\n",
    "Accused of abandoning France's traditional backing for Palestinians, he then organised an international aid conference on Gaza to which Israel was not invited.\n",
    "He then further angered some Jews by refusing to attend a march against antisemitism, and in a BBC interview he spoke of \"babies\" being bombed by the Israeli air force.\n",
    "Some have detected in this latest gesture at the Elysée a new, single-handed touch to the tiller of state.\n",
    "In France's foreign ministry, which has been largely sidelined by President Macron, off-the-record interviews make clear the frustration among professional diplomats.\n",
    "\n",
    "\"One day Macron is on the verge of announcing that he's going to help the Israeli army wipe out Gaza. Two weeks later he's on the BBC calling Israel a baby-killer,\" one former diplomat told Libération newspaper.\n",
    "\"OK, we know it is all about internal politics. But here, he's alienating first the Muslims, then the Jews.\""
   ]
  },
  {
   "cell_type": "code",
   "execution_count": 14,
   "metadata": {},
   "outputs": [],
   "source": [
    "doc2 = '''\n",
    "Emmanuel Macron has been accused of betraying the French Republic after he took part in a Jewish ceremony inside his official residence, the Elysée Palace. In a country where the separation of religion is itself a religion, the lighting of a Hanukkah candle inside the historic Salle des Fêtes on Thursday was immediately denounced by politicians of both right and left. The president had invited France's Chief Rabbi Haïm Korsia to light the first of eight candles on a Hanukkiah, or candelabra, marking the start of the Jewish festival of lights. The occasion was the award to President Macron of a prize for his efforts against antisemitism. But when video of the ceremony appeared shortly afterwards on social media, there was furore. For French opinion-formers of all stripes, the president had committed an enormous faux-pas by allowing religion into the secular hallows of the presidency.\n",
    "'''"
   ]
  },
  {
   "cell_type": "code",
   "execution_count": 7,
   "metadata": {},
   "outputs": [],
   "source": [
    "# text wrapping function\n",
    "def wrap(x):\n",
    "  return textwrap.fill(x, replace_whitespace = False, fix_sentence_endings = True)"
   ]
  },
  {
   "cell_type": "code",
   "execution_count": 15,
   "metadata": {},
   "outputs": [],
   "source": [
    "doc3 = wrap(doc2)"
   ]
  },
  {
   "cell_type": "code",
   "execution_count": 9,
   "metadata": {},
   "outputs": [
    {
     "name": "stderr",
     "output_type": "stream",
     "text": [
      "No model was supplied, defaulted to sshleifer/distilbart-cnn-12-6 and revision a4f8f3e (https://huggingface.co/sshleifer/distilbart-cnn-12-6).\n",
      "Using a pipeline without specifying a model name and revision in production is not recommended.\n"
     ]
    }
   ],
   "source": [
    "summarizer = pipeline('summarization')"
   ]
  },
  {
   "cell_type": "code",
   "execution_count": 16,
   "metadata": {},
   "outputs": [],
   "source": [
    "results = summarizer(doc3.split('\\n',1)[1])"
   ]
  },
  {
   "cell_type": "code",
   "execution_count": 17,
   "metadata": {},
   "outputs": [
    {
     "name": "stdout",
     "output_type": "stream",
     "text": [
      " Emmanuel Macron has been accused of betraying the French Republic after he took part in a Jewish ceremony inside his official residence, the Elysée Palace . The lighting of a Hanukkah candle inside the historic Salle des Fêtes on Thursday was immediately denounced by politicians of both right and left .\n"
     ]
    }
   ],
   "source": [
    "print(results[0]['summary_text'])"
   ]
  }
 ],
 "metadata": {
  "kernelspec": {
   "display_name": "base",
   "language": "python",
   "name": "python3"
  },
  "language_info": {
   "codemirror_mode": {
    "name": "ipython",
    "version": 3
   },
   "file_extension": ".py",
   "mimetype": "text/x-python",
   "name": "python",
   "nbconvert_exporter": "python",
   "pygments_lexer": "ipython3",
   "version": "3.11.5"
  }
 },
 "nbformat": 4,
 "nbformat_minor": 2
}
